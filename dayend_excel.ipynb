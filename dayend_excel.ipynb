{
 "cells": [
  {
   "cell_type": "code",
   "execution_count": null,
   "metadata": {
    "scrolled": true
   },
   "outputs": [],
   "source": []
  },
  {
   "cell_type": "code",
   "execution_count": 4,
   "metadata": {},
   "outputs": [
    {
     "name": "stdout",
     "output_type": "stream",
     "text": [
      "1. Fund Injection Count = 35\n",
      "\n",
      "\n",
      "入金 币种\n",
      "CNY    148500.18\n",
      "HKD    937552.36\n",
      "USD     28398.07\n",
      "Name: 金额, dtype: float64\n",
      "\n",
      "\n",
      "Total injection: HKD$ $1,337,257.52\n",
      "\n",
      "\n",
      "2. Fund Withdrawal Count = 12\n",
      "\n",
      "\n",
      "出金 币种\n",
      "CNY         0.00\n",
      "HKD    250016.19\n",
      "USD      1313.59\n",
      "Name: 金额, dtype: float64\n",
      "\n",
      "\n",
      "Total withdrawal: HKD$ $260,262.19\n",
      "\n",
      "\n",
      "Action Completed. Process File: 1\n",
      "\n",
      "\n"
     ]
    }
   ],
   "source": [
    "\n",
    "import pandas as pd\n",
    "import csv\n",
    "import glob\n",
    "import os\n",
    "import sys\n",
    "import numpy as np\n",
    "\n",
    "\n",
    "input_path = \"/Users/ansonleung/Downloads\"\n",
    "output_file = \"/Users/ansonleung/Desktop/daily_data.xlsx\"\n",
    "all_files = glob.glob(os.path.join(input_path, 'daily_transfer_report_*'))\n",
    "all_data_frames = []\n",
    "file_count = 0\n",
    "for file in all_files:\n",
    "    data_frame = pd.read_excel(file, sheet_name='Sheet1', index_col=None)\n",
    "    file_count += 1\n",
    "    \n",
    "    \n",
    "important_dates = ['出金']\n",
    "data_frame1 = data_frame[data_frame['转账类型'].isin(important_dates)]\n",
    "data_frame1 = data_frame1.sort_values(by=['币种'])\n",
    "data_frame1 = data_frame1[['uid','币种','金额']]\n",
    "\n",
    "\n",
    "important_dates1=['入金']\n",
    "data_frame2 = data_frame[data_frame['转账类型'].isin(important_dates1)]\n",
    "data_frame2 = data_frame2.sort_values(by=['币种'])\n",
    "data_frame2 = data_frame2[['uid','币种','金额']]\n",
    "\n",
    "data_frame1_count = data_frame1.shape[0] \n",
    "\n",
    "\n",
    "data_frame2_count = data_frame2.shape[0] \n",
    "writer = pd.ExcelWriter(output_file)\n",
    "\n",
    "dummy1 = {'uid':100099999, '币种':'CNY', '金额':0 }\n",
    "dummy2 = {'uid':100099998, '币种':'USD', '金额':0 }\n",
    "\n",
    "data_frame1= data_frame1.append(dummy1, ignore_index=True)\n",
    "data_frame1= data_frame1.append(dummy2,ignore_index=True)\n",
    "data_frame2= data_frame2.append(dummy1, ignore_index=True)\n",
    "data_frame2= data_frame2.append(dummy2,ignore_index=True)\n",
    "\n",
    "inject = data_frame2[['币种','金额']].groupby(['币种']).sum()\n",
    "inject= inject['金额']\n",
    "print('1. Fund Injection Count = ' + str(data_frame2_count))\n",
    "print('\\n')\n",
    "print('入金', inject)\n",
    "print('\\n')\n",
    "total_inject = inject['CNY']*1.2+inject['HKD']+inject['USD']*7.8\n",
    "print('Total injection: HKD$ ' + str(\"${:,.2f}\".format(total_inject)))\n",
    "print('\\n')\n",
    "\n",
    "withdraw = data_frame1[['币种','金额']].groupby(['币种']).sum()\n",
    "withdraw= withdraw['金额']\n",
    "print('2. Fund Withdrawal Count = ' + str(data_frame1_count))\n",
    "print('\\n')\n",
    "print('出金', withdraw)\n",
    "print('\\n')\n",
    "total_withdraw = withdraw['CNY']*1.2+withdraw['HKD']+withdraw['USD']*7.8\n",
    "print('Total withdrawal: HKD$ ' + str(\"${:,.2f}\".format(total_withdraw)))\n",
    "print('\\n')\n",
    "\n",
    "thisdicc = {\"Injection Count\":data_frame2_count, \"Injection HKD\":inject[1] ,\"Injection USD\":inject[2], \"Injection CNY\":inject[0], \n",
    "            \"Withdrawal Count\":data_frame1_count, \"Withdrawal HKD\": withdraw[1],\"Withdrawal USD\": withdraw[2],\"Withdrawal CNY\": withdraw[0]}\n",
    "data_frame2= data_frame2.drop(data_frame2.index[-2:])\n",
    "data_frame1= data_frame1.drop(data_frame1.index[-2:])\n",
    "data_frame3 =pd.DataFrame(data=thisdicc, index=[0])\n",
    "frames = {'入金': data_frame2, '出金': data_frame1, 'Daily Summary':data_frame3}\n",
    "\n",
    "for sheet, frame in  frames.items(): # .use .items for python 3.X\n",
    "    frame.to_excel(writer, sheet_name = sheet, index = False)\n",
    "    \n",
    "writer.save()\n",
    "\n",
    "print('Action Completed. Process File: '+ str(file_count))\n",
    "print('\\n')"
   ]
  },
  {
   "cell_type": "code",
   "execution_count": 3,
   "metadata": {},
   "outputs": [
    {
     "name": "stdout",
     "output_type": "stream",
     "text": [
      "0 files deleted\n"
     ]
    }
   ],
   "source": [
    "import pandas as pd\n",
    "import csv\n",
    "import glob\n",
    "import os\n",
    "import sys\n",
    "import numpy as np\n",
    "index = 0\n",
    "input_path = \"/Users/ansonleung/Downloads\"\n",
    "all_files = glob.glob(os.path.join(input_path, 'daily_transfer_report_*'))\n",
    "for i in all_files: \n",
    "    if os.path.exists(i):\n",
    "        os.remove(i)\n",
    "        index+=1\n",
    "print(f'{index} files deleted')"
   ]
  },
  {
   "cell_type": "code",
   "execution_count": null,
   "metadata": {},
   "outputs": [],
   "source": []
  }
 ],
 "metadata": {
  "kernelspec": {
   "display_name": "Python 3",
   "language": "python",
   "name": "python3"
  },
  "language_info": {
   "codemirror_mode": {
    "name": "ipython",
    "version": 3
   },
   "file_extension": ".py",
   "mimetype": "text/x-python",
   "name": "python",
   "nbconvert_exporter": "python",
   "pygments_lexer": "ipython3",
   "version": "3.8.5"
  }
 },
 "nbformat": 4,
 "nbformat_minor": 5
}
