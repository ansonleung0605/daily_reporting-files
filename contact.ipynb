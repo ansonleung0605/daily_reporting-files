{
 "cells": [
  {
   "cell_type": "code",
   "execution_count": 6,
   "metadata": {},
   "outputs": [
    {
     "name": "stdout",
     "output_type": "stream",
     "text": [
      "Action. Process File: 1\n"
     ]
    }
   ],
   "source": [
    "#sleekflow first review\n",
    "import pandas as pd\n",
    "import csv\n",
    "import glob\n",
    "import os\n",
    "import sys\n",
    "import numpy as np\n",
    "\n",
    "input_path = '/Users/ansonleung/Downloads'\n",
    "output_file = '/Users/ansonleung/Desktop/contact_sleekflow.csv'\n",
    "\n",
    "all_files = glob.glob(os.path.join(input_path, 'openaccount*'))\n",
    "file_count = 0\n",
    "for file in all_files:\n",
    "    df = pd.read_csv(file, sep=\"\\t\")\n",
    "    file_count +=1\n",
    "df['FirstName'] = df['en_given_name'].str.title()\n",
    "df['LastName'] = df['en_family_name'].str.title()\n",
    "df['UID'] = df['uid'].astype(str).str[:-2]\n",
    "df['PhoneNumber'] = df['mobile_area'].astype(str).str[:-2] + df['mobile_num'].astype(str)\n",
    "\n",
    "contact = df[['FirstName', 'LastName','UID','PhoneNumber']].head(200)\n",
    "contact.to_csv(output_file, index = False)\n",
    "print('Action. Process File: '+ str(file_count))"
   ]
  },
  {
   "cell_type": "code",
   "execution_count": 4,
   "metadata": {},
   "outputs": [
    {
     "name": "stdout",
     "output_type": "stream",
     "text": [
      "Action. Process File: 1\n"
     ]
    }
   ],
   "source": [
    "#sleekflow second review\n",
    "import pandas as pd\n",
    "import csv\n",
    "import glob\n",
    "import os\n",
    "import sys\n",
    "import numpy as np\n",
    "\n",
    "input_path = '/Users/ansonleung/Downloads'\n",
    "output_file = '/Users/ansonleung/Desktop/contact_sleekflow_2.csv'\n",
    "\n",
    "all_files = glob.glob(os.path.join(input_path, 'openaccount*'))\n",
    "file_count = 0\n",
    "for file in all_files:\n",
    "    df = pd.read_csv(file, sep=\"\\t\")\n",
    "    file_count +=1\n",
    "df['FirstName'] = df['en_given_name'].str.title()\n",
    "df['LastName'] = df['en_family_name'].str.title()\n",
    "\n",
    "df['PhoneNumber'] = df['mobile_area'].astype(str) + df['mobile_num'].astype(str)\n",
    "\n",
    "contact = df[['FirstName', 'LastName','PhoneNumber']].head(400).dropna()\n",
    "contact.to_csv(output_file, index = False)\n",
    "print('Action. Process File: '+ str(file_count))"
   ]
  },
  {
   "cell_type": "code",
   "execution_count": 5,
   "metadata": {},
   "outputs": [
    {
     "name": "stdout",
     "output_type": "stream",
     "text": [
      "2 files deleted\n"
     ]
    }
   ],
   "source": [
    "#delete\n",
    "\n",
    "import pandas as pd\n",
    "import csv\n",
    "import glob\n",
    "import os\n",
    "import sys\n",
    "import numpy as np\n",
    "index = 0\n",
    "input_path = '/Users/ansonleung/Downloads'\n",
    "all_files = glob.glob(os.path.join(input_path, 'openaccount*'))\n",
    "for i in all_files: \n",
    "    if os.path.exists(i):\n",
    "        os.remove(i)\n",
    "        index+=1\n",
    "print(f'{index} files deleted')"
   ]
  },
  {
   "cell_type": "code",
   "execution_count": null,
   "metadata": {},
   "outputs": [],
   "source": [
    "'''\n",
    "#first review\n",
    "import pandas as pd\n",
    "import csv\n",
    "import glob\n",
    "import os\n",
    "import sys\n",
    "import numpy as np\n",
    "\n",
    "input_path = '/Users/ansonleung/Downloads'\n",
    "output_file = '/Users/ansonleung/Desktop/contact_new.csv'\n",
    "\n",
    "all_files = glob.glob(os.path.join(input_path, 'openaccount*'))\n",
    "file_count = 0\n",
    "for file in all_files:\n",
    "    df = pd.read_csv(file, sep=\"\\t\")\n",
    "    file_count +=1\n",
    "df['en_given_name'] = df['en_given_name'].str.title()\n",
    "df['en_family_name'] = df['en_family_name'].str.title()\n",
    "df['Name'] = df[\"en_given_name\"] + \" \" + df[\"en_family_name\"]\n",
    "df['Phone'] = df['mobile_num']\n",
    "contact = df[['Name', 'Phone']].head(200)\n",
    "contact.to_csv(output_file, index = False)\n",
    "print('Action. Process File: '+ str(file_count))"
   ]
  },
  {
   "cell_type": "code",
   "execution_count": null,
   "metadata": {},
   "outputs": [],
   "source": [
    "'''\n",
    "from datetime import datetime\n",
    "df['update_time']=pd.to_datetime(df['update_time'], unit='s')\n",
    "output_file1 = '/Users/ansonleung/Desktop/contact_tem.csv'\n",
    "new = df[['uid', 'Name','Phone','email','update_time']]\n",
    "new.to_csv(output_file1, index = False)"
   ]
  },
  {
   "cell_type": "code",
   "execution_count": null,
   "metadata": {},
   "outputs": [],
   "source": [
    "'''\n",
    "#second review\n",
    "import pandas as pd\n",
    "import csv\n",
    "import glob\n",
    "import os\n",
    "import sys\n",
    "import numpy as np\n",
    "output_file1 = '/Users/ansonleung/Desktop/contact_tem.csv'\n",
    "\n",
    "\n",
    "input_path = '/Users/ansonleung/Downloads'\n",
    "\n",
    "all_files = glob.glob(os.path.join(input_path, 'openaccount*'))\n",
    "file_count = 0\n",
    "for file in all_files:\n",
    "    df = pd.read_csv(file, sep=\"\\t\")\n",
    "    file_count +=1\n",
    "df['en_given_name'] = df['en_given_name'].str.title()\n",
    "df['en_family_name'] = df['en_family_name'].str.title()\n",
    "df['Name'] = df[\"en_given_name\"] + \" \" + df[\"en_family_name\"]\n",
    "df['Phone'] = df['mobile_num']\n",
    "contact = df[['Name', 'Phone']].head(200).dropna()\n",
    "\n",
    "contact = contact.head(90)\n",
    "\n",
    "contact.to_csv(output_file1, index = False)\n",
    "print('Action. Process File: '+ str(file_count))"
   ]
  },
  {
   "cell_type": "code",
   "execution_count": null,
   "metadata": {},
   "outputs": [],
   "source": []
  }
 ],
 "metadata": {
  "kernelspec": {
   "display_name": "Python 3",
   "language": "python",
   "name": "python3"
  },
  "language_info": {
   "codemirror_mode": {
    "name": "ipython",
    "version": 3
   },
   "file_extension": ".py",
   "mimetype": "text/x-python",
   "name": "python",
   "nbconvert_exporter": "python",
   "pygments_lexer": "ipython3",
   "version": "3.8.5"
  }
 },
 "nbformat": 4,
 "nbformat_minor": 4
}
